{
  "nbformat": 4,
  "nbformat_minor": 0,
  "metadata": {
    "colab": {
      "name": "DSA LAB 6.ipynb",
      "provenance": [],
      "authorship_tag": "ABX9TyNbAFdtyBMqm5+F9teiAAxq",
      "include_colab_link": true
    },
    "kernelspec": {
      "name": "python3",
      "display_name": "Python 3"
    },
    "language_info": {
      "name": "python"
    }
  },
  "cells": [
    {
      "cell_type": "markdown",
      "metadata": {
        "id": "view-in-github",
        "colab_type": "text"
      },
      "source": [
        "<a href=\"https://colab.research.google.com/github/HuzaifaChughtai/IST/blob/main/DSA_LAB_6.ipynb\" target=\"_parent\"><img src=\"https://colab.research.google.com/assets/colab-badge.svg\" alt=\"Open In Colab\"/></a>"
      ]
    },
    {
      "cell_type": "markdown",
      "metadata": {
        "id": "nD0x_jx83IN6"
      },
      "source": [
        "Lab task"
      ]
    },
    {
      "cell_type": "code",
      "metadata": {
        "id": "zU2Z75LjyaGb",
        "colab": {
          "base_uri": "https://localhost:8080/"
        },
        "outputId": "8d7bbbd0-83cc-4116-bda6-f55e2dd32a71"
      },
      "source": [
        "class node:\n",
        "  def __init__(self,data=None):\n",
        "    self.data=data\n",
        "    self.next=None\n",
        "\n",
        "class linkedlist:\n",
        "  def __init__(self):\n",
        "    self.head=node()\n",
        "  def append(self, data):\n",
        "    new_node = node(data)\n",
        "    cur = self.head\n",
        "    while cur.next!=None:\n",
        "      cur = cur.next\n",
        "    cur.next = new_node\n",
        "\n",
        "  def display(self):\n",
        "    cur = self.head\n",
        "    dis=[]\n",
        "    while cur.next !=None:\n",
        "      cur = cur.next\n",
        "      dis.append(cur.data)\n",
        "    print(dis)\n",
        "\n",
        "  def delete(self):\n",
        "    cur = self.head\n",
        "    while (cur.next.next): \n",
        "      seconlast_node = cur.next\n",
        "      cur = cur.next\n",
        "    cur.next = None\n",
        "\n",
        "  def len_list(self):\n",
        "    size=0\n",
        "    cur=self.head\n",
        "    while cur.next!=None:\n",
        "      size=size+1\n",
        "      cur=cur.next\n",
        "    print(size)\n",
        "\n",
        "l=linkedlist()\n",
        "l.append(1)\n",
        "l.append(2)\n",
        "l.append(3)\n",
        "l.delete()\n",
        "l.display()\n",
        "l.len_list()"
      ],
      "execution_count": 28,
      "outputs": [
        {
          "output_type": "stream",
          "name": "stdout",
          "text": [
            "[1, 2]\n",
            "2\n"
          ]
        }
      ]
    },
    {
      "cell_type": "code",
      "metadata": {
        "id": "9a4j6F0j1eRn"
      },
      "source": [
        ""
      ],
      "execution_count": null,
      "outputs": []
    },
    {
      "cell_type": "code",
      "metadata": {
        "id": "7WPW1OtY2Hpf"
      },
      "source": [
        ""
      ],
      "execution_count": null,
      "outputs": []
    },
    {
      "cell_type": "code",
      "metadata": {
        "id": "oVgRxe-c2Nnh"
      },
      "source": [
        ""
      ],
      "execution_count": null,
      "outputs": []
    }
  ]
}