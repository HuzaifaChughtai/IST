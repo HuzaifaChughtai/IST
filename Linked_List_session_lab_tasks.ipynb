{
  "nbformat": 4,
  "nbformat_minor": 0,
  "metadata": {
    "colab": {
      "name": "Linked List session lab tasks.ipynb",
      "provenance": [],
      "collapsed_sections": [],
      "authorship_tag": "ABX9TyMBaavmMyBJqjE7Nt7v9hgX",
      "include_colab_link": true
    },
    "kernelspec": {
      "name": "python3",
      "display_name": "Python 3"
    },
    "language_info": {
      "name": "python"
    }
  },
  "cells": [
    {
      "cell_type": "markdown",
      "metadata": {
        "id": "view-in-github",
        "colab_type": "text"
      },
      "source": [
        "<a href=\"https://colab.research.google.com/github/HuzaifaChughtai/IST/blob/main/Linked_List_session_lab_tasks.ipynb\" target=\"_parent\"><img src=\"https://colab.research.google.com/assets/colab-badge.svg\" alt=\"Open In Colab\"/></a>"
      ]
    },
    {
      "cell_type": "markdown",
      "metadata": {
        "id": "uKfU94JzG9Zh"
      },
      "source": [
        "#TASK 1"
      ]
    },
    {
      "cell_type": "code",
      "metadata": {
        "id": "_96VLsf5GS8U"
      },
      "source": [
        "class Node:\n",
        "  def __init__(self,data=None):\n",
        "    self.data=data\n",
        "    self.next=None\n",
        "\n",
        "class LL:\n",
        "  def __init__(self):\n",
        "    self.head=Node(\"President\")\n",
        "    self.head.next=Node()\n",
        "  \n",
        "  def append(self,data):\n",
        "    new_node=Node(data)\n",
        "    curr=self.head\n",
        "    while (curr.next!=None):\n",
        "      curr=curr.next\n",
        "    curr.next=new_node\n",
        "\n",
        "  def display(self):\n",
        "    curr=self.head.next\n",
        "    dis=[]\n",
        "    while (curr.next!=None):\n",
        "      curr=curr.next\n",
        "      dis.append(curr.data)\n",
        "    print(dis)\n",
        "    dis.reverse()\n",
        "    print(\"After reversing \")\n",
        "    print(dis)\n",
        "  def delete(self):\n",
        "    curr=self.head\n",
        "    while(curr.next.next):\n",
        "      second_last_node=curr.next\n",
        "      curr=curr.next\n",
        "    curr.next=None\n",
        "  def total(self):\n",
        "    curr=self.head\n",
        "    temp=-1\n",
        "    while(curr.next!=None):\n",
        "      temp+=1\n",
        "      curr=curr.next\n",
        "\n",
        "    print(temp)\n",
        "\n"
      ],
      "execution_count": 21,
      "outputs": []
    },
    {
      "cell_type": "code",
      "metadata": {
        "id": "EA0dig9dwGvX"
      },
      "source": [
        "list=LL()"
      ],
      "execution_count": 22,
      "outputs": []
    },
    {
      "cell_type": "code",
      "metadata": {
        "colab": {
          "base_uri": "https://localhost:8080/"
        },
        "id": "eR0je24uwLkR",
        "outputId": "3609c1f9-7046-40b9-f376-148eaf29db13"
      },
      "source": [
        "list.append(\"President\")\n",
        "number=int(input(\"Number of players: \"))\n",
        "for i in range(number):\n",
        "  p=input(\"Enter player name: \")\n",
        "  list.append(p)\n",
        "\n",
        "list.append(\"Secretary\")\n",
        "list.delete()\n",
        "list.total()\n",
        "list.display()"
      ],
      "execution_count": 23,
      "outputs": [
        {
          "output_type": "stream",
          "name": "stdout",
          "text": [
            "Number of players: 5\n",
            "Enter player name: Huzaifa\n",
            "Enter player name: Hussain\n",
            "Enter player name: Ammar\n",
            "Enter player name: Wania\n",
            "Enter player name: Kiran\n",
            "6\n",
            "['President', 'Huzaifa', 'Hussain', 'Ammar', 'Wania', 'Kiran']\n",
            "After reversing \n",
            "['Kiran', 'Wania', 'Ammar', 'Hussain', 'Huzaifa', 'President']\n"
          ]
        }
      ]
    },
    {
      "cell_type": "code",
      "metadata": {
        "id": "T6xjod1wwx33"
      },
      "source": [
        ""
      ],
      "execution_count": null,
      "outputs": []
    }
  ]
}